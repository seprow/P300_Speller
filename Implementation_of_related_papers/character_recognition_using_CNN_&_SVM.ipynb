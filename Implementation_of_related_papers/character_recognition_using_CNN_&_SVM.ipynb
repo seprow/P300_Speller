{
 "cells": [
  {
   "cell_type": "markdown",
   "metadata": {},
   "source": [
    "# 📌 Overview\n",
    "\n",
    "This notebook implements the methods described in the paper **\"P300-based Character Recognition using CNN and SVM\"** by **Sourav Kundu** and **Samit Ari**.\n",
    "\n",
    "---\n",
    "\n",
    "# 📌 Dataset\n",
    "\n",
    "You can download the dataset from the following link:  \n",
    "[BCI Competition III - Dataset II](https://www.bbci.de/competition/download/competition_iii/albany/BCI_Comp_III_Wads_2004.zip)\n",
    "\n",
    "---\n",
    "\n",
    "## 📊 Data Collection\n",
    "\n",
    "- **Subjects**: Two participants, five sessions each.\n",
    "- **Task**: Focus on one out of 36 different characters displayed on the screen.\n",
    "\n",
    "### Matrix Display:\n",
    "- **Blank Matrix**: 2.5 seconds.\n",
    "- **Intensifications**: Rows and columns are randomly intensified at 100ms intervals, followed by a 75ms blank period.\n",
    "- **Repetition**: The process is repeated 15 times per character, totaling 180 intensifications per epoch.\n",
    "\n",
    "### Data Details:\n",
    "- **Bandpass Filtered**: 0.1-60Hz\n",
    "- **Digitized at**: **240Hz** (sampled 240 times per second).\n",
    "- **Recorded with**: **64 EEG channels**.\n",
    "- **Data Files**: Four MATLAB *.mat files – one training (85 characters) and one test (100 characters) for each of the two subjects (A and B).\n",
    "\n",
    "---\n",
    "\n",
    "## 📌 Contents of the .mat File\n",
    "\n",
    "For each sample in the Signal matrix, associated events are coded using the following variables:\n",
    "\n",
    "- **Flashing**:  \n",
    "  - `1` when row/column was intensified, `0` otherwise.\n",
    "  \n",
    "- **StimulusCode**:  \n",
    "  - `0` when no row/column is being intensified (i.e., matrix is blank).  \n",
    "  - `1…6` for intensified columns (1 being the left-most column).  \n",
    "  - `7…12` for intensified rows (7 being the upper-most row).  \n",
    "\n",
    "- **StimulusType**:  \n",
    "  - `0` when no row/column is being intensified or the intensified row/column does not contain the desired character.  \n",
    "  - `1` when the intensified row/column contains the desired character.  \n",
    "  - This variable allows easy access to labels in the training sets, separating responses that contained the desired character from those that did not. It can also be determined using the **StimulusCode** along with the **TargetChar** that the user focused on.\n",
    "\n",
    "- **TargetChar**:  \n",
    "  - The correct character label for each character epoch in the training data.\n"
   ]
  },
  {
   "cell_type": "code",
   "execution_count": 1,
   "metadata": {},
   "outputs": [],
   "source": [
    "from glob import glob\n",
    "from pathlib import Path\n",
    "import os\n",
    "import mne\n",
    "import scipy\n",
    "import numpy as np\n",
    "import pandas as pd\n",
    "import matplotlib.pyplot as plt"
   ]
  },
  {
   "cell_type": "code",
   "execution_count": 2,
   "metadata": {},
   "outputs": [],
   "source": [
    "DATA_DIR = Path('')\n",
    "DATA_PATHS = glob(str(DATA_DIR / 'BCI_Comp_III_Wads_2004' / '*.mat'))\n",
    "ELOC_PATH = DATA_DIR / 'BCI_Comp_III_Wads_2004' / 'eloc64.txt'"
   ]
  },
  {
   "cell_type": "code",
   "execution_count": 3,
   "metadata": {},
   "outputs": [],
   "source": [
    "Subject_A_Test = scipy.io.loadmat(DATA_PATHS[0])\n",
    "Subject_A_Train = scipy.io.loadmat(DATA_PATHS[1])\n",
    "Subject_B_Test = scipy.io.loadmat(DATA_PATHS[2])\n",
    "Subject_B_Train = scipy.io.loadmat(DATA_PATHS[3])"
   ]
  },
  {
   "cell_type": "code",
   "execution_count": 4,
   "metadata": {},
   "outputs": [
    {
     "name": "stdout",
     "output_type": "stream",
     "text": [
      "dict_keys(['__header__', '__version__', '__globals__', 'Signal', 'TargetChar', 'Flashing', 'StimulusCode', 'StimulusType'])\n"
     ]
    }
   ],
   "source": [
    "print(Subject_A_Train.keys())"
   ]
  },
  {
   "cell_type": "code",
   "execution_count": 5,
   "metadata": {},
   "outputs": [
    {
     "name": "stdout",
     "output_type": "stream",
     "text": [
      "Header:  b'MATLAB 5.0 MAT-file, Platform: PCWIN, Created on: Mon Nov 29 08:14:54 2004'\n",
      "\n",
      "Version:  1.0\n"
     ]
    }
   ],
   "source": [
    "print('Header: ', Subject_A_Train['__header__']), print('\\nVersion: ', Subject_A_Train['__version__']);"
   ]
  },
  {
   "cell_type": "code",
   "execution_count": 6,
   "metadata": {},
   "outputs": [],
   "source": [
    "channels = []\n",
    "f = open(ELOC_PATH,'r')\n",
    "for channel in f.read().split('\\n'):\n",
    "    channels.append(channel.split('\\t')[-1].split('.')[0])\n",
    "\n",
    "channels = channels[:64]"
   ]
  }
 ],
 "metadata": {
  "kernelspec": {
   "display_name": ".eeg_venv",
   "language": "python",
   "name": "python3"
  },
  "language_info": {
   "codemirror_mode": {
    "name": "ipython",
    "version": 3
   },
   "file_extension": ".py",
   "mimetype": "text/x-python",
   "name": "python",
   "nbconvert_exporter": "python",
   "pygments_lexer": "ipython3",
   "version": "3.10.11"
  }
 },
 "nbformat": 4,
 "nbformat_minor": 2
}
