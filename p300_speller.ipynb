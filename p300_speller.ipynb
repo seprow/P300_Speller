{
 "cells": [
  {
   "cell_type": "markdown",
   "metadata": {},
   "source": [
    "# 🧠 What is BCI?  \n",
    "\n",
    "💡 A **Brain-Computer Interface (BCI)** is a technology that allows the brain to communicate directly with a computer or external device.  \n",
    "*It serves as a tool for non-muscular communication.*  \n",
    "\n",
    "---\n",
    "\n",
    "### How It Works:  \n",
    "- **Detection**: Captures brain signals, such as thoughts or intentions.  \n",
    "- **Translation**: Converts these signals into commands for tasks.  \n",
    "\n",
    "---\n",
    "\n",
    "# 🧠 What is P300 Speller?  \n",
    "\n",
    "💡 The **P300 Speller** is a BCI application designed for people who require a communication tool that uses brain activity alone.  \n",
    "- Developed by **Farwell and Donchin** in **1988**  \n",
    "\n",
    "---\n",
    "\n",
    "### EP VS ERP:\n",
    "Evoked Potentials (EPs) and Event-Related Potentials (ERPs) are brain responses with distinct characteristics and applications.\n",
    "\n",
    "| **Aspect**            | **Evoked Potentials (EPs)**                   | **Event-Related Potentials (ERPs)**              |\n",
    "|------------------------|-----------------------------------------------|-------------------------------------------------|\n",
    "| **Definition**         | Automatic brain responses to sensory stimuli | Task-driven brain responses to cognitive events |\n",
    "| **Focus**              | Sensory processing                           | Higher-level cognitive processes (decision-making, attention, etc.) |\n",
    "| **Timing**             | Early responses (10-100 ms)                  | Later responses (~100-600 ms)                   |\n",
    "\n",
    "---\n",
    "\n",
    "### P300:\n",
    "**P300** is a specific brain activity and a type of **ERP**. It is linked to the brain's recognition of something **unexpected or rare**, showing a **positive deflection** in the EEG approximately **300 milliseconds** after detecting an infrequent target stimulus.\n",
    "\n",
    "---\n",
    "\n",
    "### P300 Speller:\n",
    "![P300 Speller Paradigm](P300-speller-paradigm.png)\n",
    "\n",
    "The **P300 Speller** uses a **6x6 matrix** of characters, where the user focuses on a target character. The matrix rows and columns are randomly intensified at **5.7Hz**, with two out of 12 intensifications containing the target character. The brain generates a distinct **P300 response** to these infrequent stimuli, which is different from the responses to non-target stimuli. This **P300 wave** is used to identify the character the user is focusing on, enabling communication through brain activity.\n",
    "\n",
    "---\n",
    "\n",
    "# Dataset\n",
    "\n",
    "- Download the dataset from:  \n",
    "  [BCI Competition III - Dataset II](https://www.bbci.de/competition/download/competition_iii/albany/BCI_Comp_III_Wads_2004.zip)\n",
    "\n",
    "---\n",
    "\n",
    "### Data Collection:\n",
    "- **Subjects**: Two participants, five sessions each.\n",
    "- **Task**: Focus on one out of 36 different characters displayed on the screen.\n",
    "- **Matrix Display**:  \n",
    "  - 2.5 seconds of blank matrix, followed by random intensifications of rows and columns (100ms each with a 75ms blank period after).  \n",
    "  - Repeated 15 times per character (180 total intensifications per epoch).\n",
    "- **Data**:  \n",
    "  - Bandpass filtered (0.1-60Hz) and digitized at **240Hz** (sampled 240 times per second).  \n",
    "  - Recorded using **64 EEG channels**.  \n",
    "  - 4 Matlab *.mat files: one training (85 characters) and one test (100 characters) for each of the two subjects, A and B.\n"
   ]
  },
  {
   "cell_type": "code",
   "execution_count": 1,
   "metadata": {},
   "outputs": [],
   "source": [
    "from glob import glob\n",
    "from pathlib import Path\n",
    "import os\n",
    "import mne\n",
    "import scipy\n",
    "import numpy as np\n",
    "import pandas as pd\n",
    "import matplotlib.pyplot as plt"
   ]
  },
  {
   "cell_type": "code",
   "execution_count": 2,
   "metadata": {},
   "outputs": [],
   "source": [
    "DATA_DIR = Path('')\n",
    "DATA_PATHS = glob(str(DATA_DIR / 'BCI_Comp_III_Wads_2004' / '*.mat'))\n",
    "ELOC_PATH = DATA_DIR / 'BCI_Comp_III_Wads_2004' / 'eloc64.txt'"
   ]
  },
  {
   "cell_type": "code",
   "execution_count": 3,
   "metadata": {},
   "outputs": [],
   "source": [
    "Subject_A_Test = scipy.io.loadmat(DATA_PATHS[0])\n",
    "Subject_A_Train = scipy.io.loadmat(DATA_PATHS[1])\n",
    "Subject_B_Test = scipy.io.loadmat(DATA_PATHS[2])\n",
    "Subject_B_Train = scipy.io.loadmat(DATA_PATHS[3])"
   ]
  },
  {
   "cell_type": "code",
   "execution_count": 4,
   "metadata": {},
   "outputs": [
    {
     "name": "stdout",
     "output_type": "stream",
     "text": [
      "dict_keys(['__header__', '__version__', '__globals__', 'Signal', 'TargetChar', 'Flashing', 'StimulusCode', 'StimulusType'])\n"
     ]
    }
   ],
   "source": [
    "print(Subject_A_Train.keys())"
   ]
  },
  {
   "cell_type": "code",
   "execution_count": 5,
   "metadata": {},
   "outputs": [
    {
     "name": "stdout",
     "output_type": "stream",
     "text": [
      "Header:  b'MATLAB 5.0 MAT-file, Platform: PCWIN, Created on: Mon Nov 29 08:14:54 2004'\n",
      "\n",
      "Version:  1.0\n"
     ]
    }
   ],
   "source": [
    "print('Header: ', Subject_A_Train['__header__']), print('\\nVersion: ', Subject_A_Train['__version__']);"
   ]
  },
  {
   "cell_type": "markdown",
   "metadata": {},
   "source": [
    "For each sample in the Signal matrix, associated events are coded using the following variables:\n",
    "\n",
    "  - **Flashing:**:\n",
    "    - 1 when row/column was intensified, 0 otherwise.  \n",
    "  - **StimulusCode**:  \n",
    "    - 0 when no row/column is being intensified (i.e., matrix is blank).  \n",
    "    - 1…6 for intensified columns (1 … left-most column).  \n",
    "    - 7…12 for intensified rows (7 … upper-most row).  \n",
    "  - **StimulusType**:  \n",
    "    - 0 when no row/column is being intensified or intensified row/column does not contain the desired character.  \n",
    "    - 1 when intensified row/character does contain the desired character.  \n",
    "    - This variable provides easy access to labels in the training sets as it can be used to separate responses that contained the desired character from those that did not. (This can also be done using the variable **StimulusCode** in conjunction with the **TargetChar** that the user focused on.)\n",
    "  - **TargetChar**:  \n",
    "    - The correct character label for each character epoch in the training data.\n"
   ]
  },
  {
   "cell_type": "code",
   "execution_count": 6,
   "metadata": {},
   "outputs": [],
   "source": [
    "channels = []\n",
    "f = open(ELOC_PATH,'r')\n",
    "for channel in f.read().split('\\n'):\n",
    "    channels.append(channel.split('\\t')[-1].split('.')[0])\n",
    "\n",
    "channels = channels[:64]"
   ]
  }
 ],
 "metadata": {
  "kernelspec": {
   "display_name": ".eeg_venv",
   "language": "python",
   "name": "python3"
  },
  "language_info": {
   "codemirror_mode": {
    "name": "ipython",
    "version": 3
   },
   "file_extension": ".py",
   "mimetype": "text/x-python",
   "name": "python",
   "nbconvert_exporter": "python",
   "pygments_lexer": "ipython3",
   "version": "3.10.11"
  }
 },
 "nbformat": 4,
 "nbformat_minor": 2
}
